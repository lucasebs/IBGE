{
 "cells": [
  {
   "cell_type": "code",
   "execution_count": 1,
   "metadata": {},
   "outputs": [],
   "source": [
    "import requests as rq"
   ]
  },
  {
   "cell_type": "code",
   "execution_count": 2,
   "metadata": {},
   "outputs": [],
   "source": [
    "agregado = 3221\n",
    "classificacoes = \n",
    "\n",
    "\n",
    "url = 'https://servicodados.ibge.gov.br/api/v3/agregados/3221/variaveis?classificacao=317[3087]|11561[100681]&localidades=N11[24081020506,24081020507,24081020508,24081020509]'\n",
    "\n",
    "response = rq.get(url)"
   ]
  },
  {
   "cell_type": "code",
   "execution_count": 4,
   "metadata": {},
   "outputs": [
    {
     "data": {
      "text/plain": [
       "[{'id': '96',\n",
       "  'variavel': 'Domicílios particulares permanentes',\n",
       "  'unidade': 'Unidades',\n",
       "  'resultados': [{'classificacoes': [{'id': '317',\n",
       "      'nome': 'Existência de compartilhamento da responsabilidade pelo domicílio com a pessoa responsável',\n",
       "      'categoria': {'3087': 'Não havia'}},\n",
       "     {'id': '11561',\n",
       "      'nome': 'Sexo da pessoa responsável pelo domicílio',\n",
       "      'categoria': {'100681': 'Mulheres'}},\n",
       "     {'id': '11562',\n",
       "      'nome': 'Grupos de idade da pessoa responsável pelo domicílio',\n",
       "      'categoria': {'0': 'Total'}},\n",
       "     {'id': '11563',\n",
       "      'nome': 'Alfabetização da pessoa responsável pelo domicílio',\n",
       "      'categoria': {'0': 'Total'}},\n",
       "     {'id': '11565',\n",
       "      'nome': 'Classes de rendimento nominal mensal da pessoa responsável pelo domicílio',\n",
       "      'categoria': {'0': 'Total'}},\n",
       "     {'id': '12237',\n",
       "      'nome': 'Cor ou raça da pessoa responsável pelo domicílio',\n",
       "      'categoria': {'0': 'Total'}}],\n",
       "    'series': [{'localidade': {'id': '24081020506',\n",
       "       'nivel': None,\n",
       "       'nome': 'R.A. Norte - Natal - Natal - RN'},\n",
       "      'serie': {'2010': '24233'}},\n",
       "     {'localidade': {'id': '24081020507',\n",
       "       'nivel': None,\n",
       "       'nome': 'R.A. Sul - Natal - Natal - RN'},\n",
       "      'serie': {'2010': '14290'}},\n",
       "     {'localidade': {'id': '24081020508',\n",
       "       'nivel': None,\n",
       "       'nome': 'R.A. Leste - Natal - Natal - RN'},\n",
       "      'serie': {'2010': '11390'}},\n",
       "     {'localidade': {'id': '24081020509',\n",
       "       'nivel': None,\n",
       "       'nome': 'R.A. Oeste - Natal - Natal - RN'},\n",
       "      'serie': {'2010': '19338'}}]}]}]"
      ]
     },
     "execution_count": 4,
     "metadata": {},
     "output_type": "execute_result"
    }
   ],
   "source": [
    "response.json()"
   ]
  }
 ],
 "metadata": {
  "kernelspec": {
   "display_name": "Python 3",
   "language": "python",
   "name": "python3"
  },
  "language_info": {
   "codemirror_mode": {
    "name": "ipython",
    "version": 3
   },
   "file_extension": ".py",
   "mimetype": "text/x-python",
   "name": "python",
   "nbconvert_exporter": "python",
   "pygments_lexer": "ipython3",
   "version": "3.6.5"
  }
 },
 "nbformat": 4,
 "nbformat_minor": 2
}
