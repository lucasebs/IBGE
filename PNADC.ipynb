{
 "cells": [
  {
   "cell_type": "markdown",
   "metadata": {},
   "source": [
    "# Pesquisa Nacional por Amostra de Domicílios Continua #"
   ]
  },
  {
   "cell_type": "code",
   "execution_count": 1,
   "metadata": {},
   "outputs": [],
   "source": [
    "import pandas as pd"
   ]
  },
  {
   "cell_type": "code",
   "execution_count": 2,
   "metadata": {},
   "outputs": [],
   "source": [
    "arq = 'PNADC_022018.txt'\n",
    "pnadc = open('PNADC/' + arq, 'r')"
   ]
  },
  {
   "cell_type": "code",
   "execution_count": 3,
   "metadata": {},
   "outputs": [],
   "source": [
    "# posicao : tamanho\n",
    "dic = {1:4,5:1,6:2,8:2,10:2,12:9,21:7,28:2,30:2,32:1,33:1,34:1,35:15,50:15,65:9,74:3,\n",
    "       77:2,79:2,81:2,83:1,84:2,86:2,88:4,92:3,95:1,96:1,97:1,98:1,99:2,101:2,103:1,\n",
    "       104:1,105:1,106:2,108:1,109:1,110:1,111:2,113:2,115:1,116:1,117:1,118:1,119:2,\n",
    "       121:1,122:1,123:1,124:1,125:1,126:1,127:1,128:1,129:1,130:1,131:1,132:1,133:2,\n",
    "       135:2,137:2,139:1,140:4,144:1,145:1,146:5,151:1,152:1,153:1,154:1,155:1,156:1,\n",
    "       157:2,159:1,160:1,161:2,163:2,165:1,166:1,167:1,168:1,169:1,170:2,172:2,174:1,\n",
    "       175:1,176:1,177:1,178:1,179:1,180:1,181:1,182:1,183:1,184:1,185:1,186:1,187:1,\n",
    "       188:8,196:1,197:1,198:8,206:1,207:1,208:1,209:1,210:1,211:8,219:1,220:1,221:8,\n",
    "       229:3,232:3,235:1,236:2,238:2,240:2,242:4,246:1,247:1,248:5,253:1,254:1,255:1,\n",
    "       256:1,257:1,258:1,259:1,260:1,261:8,269:1,270:1,271:8,279:1,280:1,281:1,282:1,\n",
    "       283:1,284:8,292:1,293:1,294:8,302:3,305:3,308:1,309:1,310:1,311:1,312:8,320:1,\n",
    "       321:1,322:8,330:1,331:1,332:1,333:1,334:1,335:1,336:8,344:1,345:1,346:8,354:3,\n",
    "       357:3,360:1,361:1,362:1,363:1,364:1,365:2,367:1,368:1,369:1,370:2,372:1,373:2,\n",
    "       375:1,376:2,378:2,380:2,382:1,383:1,384:1,385:1,386:2,388:2,390:1,391:1,392:2,\n",
    "       394:1,395:1,396:1,397:1,398:1,399:1,400:1,401:1,402:2,404:2,406:2,408:1,409:1,\n",
    "       410:1,411:1,412:8,420:8,428:1,429:8,437:8,445:1,446:1,447:3,450:3,453:3,456:3,\n",
    "       459:3,462:1,463:1}"
   ]
  },
  {
   "cell_type": "code",
   "execution_count": 4,
   "metadata": {},
   "outputs": [],
   "source": [
    "arq_csv = 'texte.csv'\n",
    "pnadc_csv = open('PNADC/saidas/' + arq_csv, 'a')"
   ]
  },
  {
   "cell_type": "code",
   "execution_count": 5,
   "metadata": {},
   "outputs": [],
   "source": [
    "for line in pnadc.readlines():\n",
    "    uf = line[0:11]\n",
    "    capital = line[33]\n",
    "    if (uf == '20182242424' and capital == '1' ):\n",
    "        content = ''\n",
    "    \n",
    "        for pos in dic.keys():\n",
    "            begin = pos-1\n",
    "            end = begin + dic[pos]\n",
    "            \n",
    "            content += line[begin:end] + ';'\n",
    "\n",
    "        content += '\\n'\n",
    "\n",
    "        pnadc_csv.write(content)\n",
    "#         write_in_csv(content,pnadc_csv)\n",
    "\n",
    "        break        "
   ]
  }
 ],
 "metadata": {
  "kernelspec": {
   "display_name": "Python 3",
   "language": "python",
   "name": "python3"
  },
  "language_info": {
   "codemirror_mode": {
    "name": "ipython",
    "version": 3
   },
   "file_extension": ".py",
   "mimetype": "text/x-python",
   "name": "python",
   "nbconvert_exporter": "python",
   "pygments_lexer": "ipython3",
   "version": "3.5.2"
  }
 },
 "nbformat": 4,
 "nbformat_minor": 2
}
