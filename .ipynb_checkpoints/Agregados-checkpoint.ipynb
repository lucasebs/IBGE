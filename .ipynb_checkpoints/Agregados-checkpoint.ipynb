{
 "cells": [
  {
   "cell_type": "markdown",
   "metadata": {},
   "source": [
    "# Coleta a partir da API de agregados IBGE"
   ]
  },
  {
   "cell_type": "markdown",
   "metadata": {},
   "source": [
    "Importando bibliotecas requests e pandas"
   ]
  },
  {
   "cell_type": "code",
   "execution_count": 1,
   "metadata": {},
   "outputs": [],
   "source": [
    "import requests as rq\n",
    "import pandas as pd"
   ]
  },
  {
   "cell_type": "code",
   "execution_count": 2,
   "metadata": {},
   "outputs": [],
   "source": [
    "columns = ['Quantidade de famílias monoparentais com chefia feminina (“mães solteiras”)',\n",
    "           'Percentual de domicílios servidos por rede de água',\n",
    "           'Percentual de domicílios servidos por rede de esgotamento sanitário']\n",
    "\n",
    "index=['leste','norte','oeste','sul']\n",
    "\n",
    "df = pd.DataFrame(index=index)"
   ]
  },
  {
   "cell_type": "code",
   "execution_count": 73,
   "metadata": {},
   "outputs": [],
   "source": [
    "def coleta_dado(agregados, variaveis, classificacao):\n",
    "    #leste, norte, oeste, sul\n",
    "    ra = [0,0,0,0]\n",
    "        \n",
    "    url = 'https://servicodados.ibge.gov.br/api/v3/agregados/'\n",
    "    url += agregados\n",
    "    url += '/variaveis'\n",
    "    if variaveis != '' :\n",
    "        url += '/' + variaveis \n",
    "    url += '?classificacao='\n",
    "    url += classificacao\n",
    "    url += '&localidades=N11[24081020508,24081020506,24081020509,24081020507]'\n",
    "\n",
    "    print(url)\n",
    "    \n",
    "    response = rq.get(url).json()\n",
    "    \n",
    "    results = response[0]['resultados']\n",
    "    \n",
    "    if len(results) > 1:\n",
    "        for i in range(0,4):\n",
    "            sum = 0\n",
    "            for result in results:\n",
    "                sum += int(result['series'][i]['serie']['2010'])\n",
    "            ra[i] = str(sum)\n",
    "    else: \n",
    "        result = results[0]['series']\n",
    "        for i in range(0,4):\n",
    "            ra[i] = result[i]['serie']['2010']\n",
    "     \n",
    "    return ra"
   ]
  },
  {
   "cell_type": "markdown",
   "metadata": {},
   "source": [
    "### Quantidade de famílias monoparentais com chefia feminina"
   ]
  },
  {
   "cell_type": "code",
   "execution_count": 24,
   "metadata": {},
   "outputs": [
    {
     "name": "stdout",
     "output_type": "stream",
     "text": [
      "https://servicodados.ibge.gov.br/api/v3/agregados/3221/variaveis?classificacao=317[3087]|11561[100681]&localidades=N11[24081020508,24081020506,24081020509,24081020507]\n"
     ]
    }
   ],
   "source": [
    "agregados = '3221'\n",
    "variaveis = ''\n",
    "classificacao = '317[3087]|11561[100681]'\n",
    "coluna = 'Quantidade de famílias monoparentais com chefia feminina (“mães solteiras”)'\n",
    "\n",
    "results = coleta_dado(agregados, variaveis, classificacao)\n",
    "df[coluna] = results"
   ]
  },
  {
   "cell_type": "markdown",
   "metadata": {},
   "source": [
    "### Percentual de domicílios servidos por rede de água"
   ]
  },
  {
   "cell_type": "code",
   "execution_count": 21,
   "metadata": {},
   "outputs": [
    {
     "name": "stdout",
     "output_type": "stream",
     "text": [
      "https://servicodados.ibge.gov.br/api/v3/agregados/3218/variaveis/1000096?classificacao=61[92853]&localidades=N11[24081020508,24081020506,24081020509,24081020507]\n"
     ]
    }
   ],
   "source": [
    "agregados = '3218'\n",
    "variaveis = '1000096'\n",
    "classificacao = '61[92853]'\n",
    "coluna = 'Percentual de domicílios servidos por rede de água'\n",
    "\n",
    "results = coleta_dado(agregados, variaveis, classificacao)\n",
    "df[coluna] = results"
   ]
  },
  {
   "cell_type": "markdown",
   "metadata": {},
   "source": [
    "### Percentual de domicílios servidos por rede de esgotamento sanitário"
   ]
  },
  {
   "cell_type": "code",
   "execution_count": 22,
   "metadata": {},
   "outputs": [
    {
     "name": "stdout",
     "output_type": "stream",
     "text": [
      "https://servicodados.ibge.gov.br/api/v3/agregados/1394/variaveis/1000096?classificacao=11558[92855]&localidades=N11[24081020508,24081020506,24081020509,24081020507]\n"
     ]
    }
   ],
   "source": [
    "agregados = '1394'\n",
    "variaveis = '1000096'\n",
    "classificacao = '11558[92855]'\n",
    "coluna = 'Percentual de domicílios servidos por rede de esgotamento sanitário'\n",
    "\n",
    "results = coleta_dado(agregados, variaveis, classificacao)\n",
    "df[coluna] = results"
   ]
  },
  {
   "cell_type": "markdown",
   "metadata": {},
   "source": [
    "### Percentual de domicílios servidos com algum tipo de coleta de lixo"
   ]
  },
  {
   "cell_type": "code",
   "execution_count": 49,
   "metadata": {},
   "outputs": [
    {
     "name": "stdout",
     "output_type": "stream",
     "text": [
      "https://servicodados.ibge.gov.br/api/v3/agregados/3218/variaveis/1000096?classificacao=67[2520]&localidades=N11[24081020508,24081020506,24081020509,24081020507]\n"
     ]
    }
   ],
   "source": [
    "agregados = '3218'\n",
    "variaveis = '1000096'\n",
    "classificacao = '67[2520]'\n",
    "coluna = 'Percentual de domicílios servidos com algum tipo de coleta de lixo'\n",
    "\n",
    "results = coleta_dado(agregados, variaveis, classificacao)\n",
    "df[coluna] = results"
   ]
  },
  {
   "cell_type": "markdown",
   "metadata": {},
   "source": [
    "### Pessoas consideradas potencialmente ativa(15-59 anos) que não sabem ler e escrever"
   ]
  },
  {
   "cell_type": "code",
   "execution_count": 75,
   "metadata": {},
   "outputs": [
    {
     "name": "stdout",
     "output_type": "stream",
     "text": [
      "https://servicodados.ibge.gov.br/api/v3/agregados/1379/variaveis/138?classificacao=59[1024]|287[93086,93087,93088,93089,93090,93091,93092,93093,93094]&localidades=N11[24081020508,24081020506,24081020509,24081020507]\n",
      "R.A. Leste - Natal - Natal - RN\n",
      "178\n",
      "R.A. Leste - Natal - Natal - RN\n",
      "416\n",
      "R.A. Leste - Natal - Natal - RN\n",
      "666\n",
      "R.A. Leste - Natal - Natal - RN\n",
      "961\n",
      "R.A. Leste - Natal - Natal - RN\n",
      "1278\n",
      "R.A. Leste - Natal - Natal - RN\n",
      "1697\n",
      "R.A. Leste - Natal - Natal - RN\n",
      "2164\n",
      "R.A. Leste - Natal - Natal - RN\n",
      "2647\n",
      "R.A. Leste - Natal - Natal - RN\n",
      "3040\n",
      "R.A. Norte - Natal - Natal - RN\n",
      "874\n",
      "R.A. Norte - Natal - Natal - RN\n",
      "1788\n",
      "R.A. Norte - Natal - Natal - RN\n",
      "3025\n",
      "R.A. Norte - Natal - Natal - RN\n",
      "4691\n",
      "R.A. Norte - Natal - Natal - RN\n",
      "6621\n",
      "R.A. Norte - Natal - Natal - RN\n",
      "9065\n",
      "R.A. Norte - Natal - Natal - RN\n",
      "11314\n",
      "R.A. Norte - Natal - Natal - RN\n",
      "13278\n",
      "R.A. Norte - Natal - Natal - RN\n",
      "15192\n",
      "R.A. Oeste - Natal - Natal - RN\n",
      "740\n",
      "R.A. Oeste - Natal - Natal - RN\n",
      "1588\n",
      "R.A. Oeste - Natal - Natal - RN\n",
      "2676\n",
      "R.A. Oeste - Natal - Natal - RN\n",
      "4197\n",
      "R.A. Oeste - Natal - Natal - RN\n",
      "5882\n",
      "R.A. Oeste - Natal - Natal - RN\n",
      "7943\n",
      "R.A. Oeste - Natal - Natal - RN\n",
      "9930\n",
      "R.A. Oeste - Natal - Natal - RN\n",
      "11670\n",
      "R.A. Oeste - Natal - Natal - RN\n",
      "13350\n",
      "R.A. Sul - Natal - Natal - RN\n",
      "118\n",
      "R.A. Sul - Natal - Natal - RN\n",
      "282\n",
      "R.A. Sul - Natal - Natal - RN\n",
      "468\n",
      "R.A. Sul - Natal - Natal - RN\n",
      "720\n",
      "R.A. Sul - Natal - Natal - RN\n",
      "1054\n",
      "R.A. Sul - Natal - Natal - RN\n",
      "1433\n",
      "R.A. Sul - Natal - Natal - RN\n",
      "1774\n",
      "R.A. Sul - Natal - Natal - RN\n",
      "2098\n",
      "R.A. Sul - Natal - Natal - RN\n",
      "2413\n"
     ]
    }
   ],
   "source": [
    "agregados = '1379'\n",
    "variaveis = '138'\n",
    "classificacao = '59[1024]|287[93086,93087,93088,93089,93090,93091,93092,93093,93094]'\n",
    "coluna = 'Pessoas consideradas potencialmente ativa(15-59 anos) que não sabem ler e escrever'\n",
    "\n",
    "results = coleta_dado(agregados, variaveis, classificacao)\n",
    "df[coluna] = results"
   ]
  },
  {
   "cell_type": "code",
   "execution_count": 70,
   "metadata": {},
   "outputs": [
    {
     "data": {
      "text/html": [
       "<div>\n",
       "<style scoped>\n",
       "    .dataframe tbody tr th:only-of-type {\n",
       "        vertical-align: middle;\n",
       "    }\n",
       "\n",
       "    .dataframe tbody tr th {\n",
       "        vertical-align: top;\n",
       "    }\n",
       "\n",
       "    .dataframe thead th {\n",
       "        text-align: right;\n",
       "    }\n",
       "</style>\n",
       "<table border=\"1\" class=\"dataframe\">\n",
       "  <thead>\n",
       "    <tr style=\"text-align: right;\">\n",
       "      <th></th>\n",
       "      <th>Quantidade de famílias monoparentais com chefia feminina (“mães solteiras”)</th>\n",
       "      <th>Percentual de domicílios servidos por rede de água</th>\n",
       "      <th>Percentual de domicílios servidos por rede de esgotamento sanitário</th>\n",
       "      <th>Percentual de domicílios servidos com algum tipo de coleta de lixo</th>\n",
       "      <th>Pessoas consideradas potencialmente ativa(15-59 anos) que não sabem ler e escrever</th>\n",
       "    </tr>\n",
       "  </thead>\n",
       "  <tbody>\n",
       "    <tr>\n",
       "      <th>leste</th>\n",
       "      <td>11390</td>\n",
       "      <td>98.82</td>\n",
       "      <td>86.76</td>\n",
       "      <td>99.69</td>\n",
       "      <td>1783040</td>\n",
       "    </tr>\n",
       "    <tr>\n",
       "      <th>norte</th>\n",
       "      <td>24233</td>\n",
       "      <td>98.14</td>\n",
       "      <td>7.43</td>\n",
       "      <td>98.20</td>\n",
       "      <td>87415192</td>\n",
       "    </tr>\n",
       "    <tr>\n",
       "      <th>oeste</th>\n",
       "      <td>19338</td>\n",
       "      <td>98.71</td>\n",
       "      <td>42.09</td>\n",
       "      <td>98.64</td>\n",
       "      <td>74013350</td>\n",
       "    </tr>\n",
       "    <tr>\n",
       "      <th>sul</th>\n",
       "      <td>14290</td>\n",
       "      <td>97.91</td>\n",
       "      <td>22.67</td>\n",
       "      <td>99.88</td>\n",
       "      <td>1182413</td>\n",
       "    </tr>\n",
       "  </tbody>\n",
       "</table>\n",
       "</div>"
      ],
      "text/plain": [
       "      Quantidade de famílias monoparentais com chefia feminina (“mães solteiras”)  \\\n",
       "leste                                              11390                            \n",
       "norte                                              24233                            \n",
       "oeste                                              19338                            \n",
       "sul                                                14290                            \n",
       "\n",
       "      Percentual de domicílios servidos por rede de água  \\\n",
       "leste                                              98.82   \n",
       "norte                                              98.14   \n",
       "oeste                                              98.71   \n",
       "sul                                                97.91   \n",
       "\n",
       "      Percentual de domicílios servidos por rede de esgotamento sanitário  \\\n",
       "leste                                              86.76                    \n",
       "norte                                               7.43                    \n",
       "oeste                                              42.09                    \n",
       "sul                                                22.67                    \n",
       "\n",
       "      Percentual de domicílios servidos com algum tipo de coleta de lixo  \\\n",
       "leste                                              99.69                   \n",
       "norte                                              98.20                   \n",
       "oeste                                              98.64                   \n",
       "sul                                                99.88                   \n",
       "\n",
       "      Pessoas consideradas potencialmente ativa(15-59 anos) que não sabem ler e escrever  \n",
       "leste                                            1783040                                  \n",
       "norte                                           87415192                                  \n",
       "oeste                                           74013350                                  \n",
       "sul                                              1182413                                  "
      ]
     },
     "execution_count": 70,
     "metadata": {},
     "output_type": "execute_result"
    }
   ],
   "source": [
    "df"
   ]
  }
 ],
 "metadata": {
  "kernelspec": {
   "display_name": "Python 3",
   "language": "python",
   "name": "python3"
  },
  "language_info": {
   "codemirror_mode": {
    "name": "ipython",
    "version": 3
   },
   "file_extension": ".py",
   "mimetype": "text/x-python",
   "name": "python",
   "nbconvert_exporter": "python",
   "pygments_lexer": "ipython3",
   "version": "3.6.5"
  }
 },
 "nbformat": 4,
 "nbformat_minor": 2
}
